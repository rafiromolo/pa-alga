{
  "cells": [
    {
      "cell_type": "code",
      "execution_count": 1,
      "metadata": {
        "id": "CCEWlC_elxc8"
      },
      "outputs": [],
      "source": [
        "from tensorflow.keras.datasets import cifar10\n",
        "from tensorflow.keras.models import Sequential\n",
        "from tensorflow.keras.layers import Dense, Flatten, Conv2D, MaxPooling2D, GlobalAveragePooling2D, BatchNormalization, Dropout\n",
        "from tensorflow.keras.losses import sparse_categorical_crossentropy\n",
        "from tensorflow.keras.optimizers import Adam\n",
        "from tensorflow.keras.applications.resnet50 import ResNet50\n",
        "import matplotlib.pyplot as plt"
      ]
    },
    {
      "cell_type": "code",
      "execution_count": 2,
      "metadata": {
        "id": "MIM0sOG9nUVS"
      },
      "outputs": [],
      "source": [
        "# Model configuration\n",
        "batch_size = 50\n",
        "img_width, img_height, img_num_channels = 32, 32, 3\n",
        "loss_function = sparse_categorical_crossentropy\n",
        "no_classes = 10\n",
        "no_epochs = 50\n",
        "optimizer = Adam()\n",
        "validation_split = 0.2\n",
        "verbosity = 1"
      ]
    },
    {
      "cell_type": "code",
      "execution_count": 3,
      "metadata": {
        "id": "QdkXHbzynrmi",
        "colab": {
          "base_uri": "https://localhost:8080/"
        },
        "outputId": "feb57ffd-7fe9-41a2-b302-d9f0fb550fa9"
      },
      "outputs": [
        {
          "output_type": "stream",
          "name": "stdout",
          "text": [
            "Downloading data from https://www.cs.toronto.edu/~kriz/cifar-10-python.tar.gz\n",
            "170498071/170498071 [==============================] - 2s 0us/step\n"
          ]
        }
      ],
      "source": [
        "# Load CIFAR-10 data\n",
        "(input_train, target_train), (input_test, target_test) = cifar10.load_data()"
      ]
    },
    {
      "cell_type": "code",
      "source": [
        "# Determine shape of the data\n",
        "input_shape = (img_width, img_height, img_num_channels)"
      ],
      "metadata": {
        "id": "F7aRzJADlFpz"
      },
      "execution_count": 4,
      "outputs": []
    },
    {
      "cell_type": "code",
      "source": [
        "# Parse numbers as floats\n",
        "input_train = input_train.astype('float32')\n",
        "input_test = input_test.astype('float32')\n",
        "\n",
        "# Normalize data\n",
        "input_train = input_train / 255\n",
        "input_test = input_test / 255"
      ],
      "metadata": {
        "id": "vB20HatllM80"
      },
      "execution_count": 5,
      "outputs": []
    },
    {
      "cell_type": "code",
      "source": [
        "print(input_train.shape)\n",
        "print(input_test.shape)\n",
        "print(input_shape)"
      ],
      "metadata": {
        "colab": {
          "base_uri": "https://localhost:8080/"
        },
        "id": "Gj1YyT4o0wJ7",
        "outputId": "8307c2c2-9aee-4fff-992c-87f135d68c40"
      },
      "execution_count": null,
      "outputs": [
        {
          "output_type": "stream",
          "name": "stdout",
          "text": [
            "(50000, 32, 32, 3)\n",
            "(10000, 32, 32, 3)\n",
            "(32, 32, 3)\n"
          ]
        }
      ]
    },
    {
      "cell_type": "markdown",
      "metadata": {
        "id": "9B1-R0IXpWSl"
      },
      "source": [
        "**Models**"
      ]
    },
    {
      "cell_type": "code",
      "source": [
        "def model_1():\n",
        "  model = Sequential()\n",
        "  model.add(Conv2D(32, kernel_size=(3, 3), activation='relu', input_shape=input_shape))\n",
        "  model.add(MaxPooling2D(pool_size=(2, 2)))\n",
        "  model.add(Conv2D(64, kernel_size=(3, 3), activation='relu'))\n",
        "  model.add(MaxPooling2D(pool_size=(2, 2)))\n",
        "  model.add(Conv2D(128, kernel_size=(3, 3), activation='relu'))\n",
        "  model.add(MaxPooling2D(pool_size=(2, 2)))\n",
        "  model.add(Flatten())\n",
        "  model.add(Dense(256, activation='relu'))\n",
        "  model.add(Dense(128, activation='relu'))\n",
        "  model.add(Dense(no_classes, activation='softmax'))\n",
        "\n",
        "  return model"
      ],
      "metadata": {
        "id": "a_vS26cwgXVb"
      },
      "execution_count": null,
      "outputs": []
    },
    {
      "cell_type": "code",
      "source": [
        "def model_2():\n",
        "  model = Sequential()\n",
        "\n",
        "  model.add(Conv2D(32, kernel_size=(3,3), padding='same', activation='relu', input_shape=input_shape))\n",
        "  model.add(BatchNormalization())\n",
        "  model.add(Conv2D(32, kernel_size=(3,3), padding='same', activation='relu'))\n",
        "  model.add(BatchNormalization())\n",
        "  model.add(MaxPooling2D(pool_size=(2,2)))\n",
        "  model.add(Dropout(0.3))\n",
        "\n",
        "  model.add(Conv2D(64, kernel_size=(3,3), padding='same', activation='relu'))\n",
        "  model.add(BatchNormalization())\n",
        "  model.add(Conv2D(64, kernel_size=(3,3), padding='same', activation='relu'))\n",
        "  model.add(BatchNormalization())\n",
        "  model.add(MaxPooling2D(pool_size=(2,2)))\n",
        "  model.add(Dropout(0.5))\n",
        "\n",
        "  model.add(Conv2D(128, kernel_size=(3,3), padding='same', activation='relu'))\n",
        "  model.add(BatchNormalization())\n",
        "  model.add(Conv2D(128, kernel_size=(3,3), padding='same', activation='relu'))\n",
        "  model.add(BatchNormalization())\n",
        "  model.add(MaxPooling2D(pool_size=(2,2)))\n",
        "  model.add(Dropout(0.5))\n",
        "\n",
        "  model.add(Flatten())\n",
        "  model.add(Dense(128, activation='relu'))\n",
        "  model.add(BatchNormalization())\n",
        "  model.add(Dropout(0.5))\n",
        "  model.add(Dense(no_classes, activation='softmax'))\n",
        "\n",
        "  return model"
      ],
      "metadata": {
        "id": "2Xq5lnD8ej-r"
      },
      "execution_count": 6,
      "outputs": []
    },
    {
      "cell_type": "code",
      "source": [
        "def model_x():\n",
        "  model = Sequential()\n",
        "  model.add(ResNet50(include_top=False, weights='imagenet'))\n",
        "  model.add(GlobalAveragePooling2D())\n",
        "  model.add(Flatten())\n",
        "  model.add(Dense(256, activation='relu'))\n",
        "  model.add(Dense(128, activation='relu'))\n",
        "  model.add(Dense(no_classes, activation='softmax'))\n",
        "\n",
        "  return model"
      ],
      "metadata": {
        "id": "S02ATdaEN1a8"
      },
      "execution_count": null,
      "outputs": []
    },
    {
      "cell_type": "code",
      "execution_count": 7,
      "metadata": {
        "colab": {
          "base_uri": "https://localhost:8080/"
        },
        "id": "oSmTqTOsrDSJ",
        "outputId": "9ffe5911-f632-4a20-e2d6-952d4879214a"
      },
      "outputs": [
        {
          "output_type": "stream",
          "name": "stdout",
          "text": [
            "Model: \"sequential\"\n",
            "_________________________________________________________________\n",
            " Layer (type)                Output Shape              Param #   \n",
            "=================================================================\n",
            " conv2d (Conv2D)             (None, 32, 32, 32)        896       \n",
            "                                                                 \n",
            " batch_normalization (BatchN  (None, 32, 32, 32)       128       \n",
            " ormalization)                                                   \n",
            "                                                                 \n",
            " conv2d_1 (Conv2D)           (None, 32, 32, 32)        9248      \n",
            "                                                                 \n",
            " batch_normalization_1 (Batc  (None, 32, 32, 32)       128       \n",
            " hNormalization)                                                 \n",
            "                                                                 \n",
            " max_pooling2d (MaxPooling2D  (None, 16, 16, 32)       0         \n",
            " )                                                               \n",
            "                                                                 \n",
            " dropout (Dropout)           (None, 16, 16, 32)        0         \n",
            "                                                                 \n",
            " conv2d_2 (Conv2D)           (None, 16, 16, 64)        18496     \n",
            "                                                                 \n",
            " batch_normalization_2 (Batc  (None, 16, 16, 64)       256       \n",
            " hNormalization)                                                 \n",
            "                                                                 \n",
            " conv2d_3 (Conv2D)           (None, 16, 16, 64)        36928     \n",
            "                                                                 \n",
            " batch_normalization_3 (Batc  (None, 16, 16, 64)       256       \n",
            " hNormalization)                                                 \n",
            "                                                                 \n",
            " max_pooling2d_1 (MaxPooling  (None, 8, 8, 64)         0         \n",
            " 2D)                                                             \n",
            "                                                                 \n",
            " dropout_1 (Dropout)         (None, 8, 8, 64)          0         \n",
            "                                                                 \n",
            " conv2d_4 (Conv2D)           (None, 8, 8, 128)         73856     \n",
            "                                                                 \n",
            " batch_normalization_4 (Batc  (None, 8, 8, 128)        512       \n",
            " hNormalization)                                                 \n",
            "                                                                 \n",
            " conv2d_5 (Conv2D)           (None, 8, 8, 128)         147584    \n",
            "                                                                 \n",
            " batch_normalization_5 (Batc  (None, 8, 8, 128)        512       \n",
            " hNormalization)                                                 \n",
            "                                                                 \n",
            " max_pooling2d_2 (MaxPooling  (None, 4, 4, 128)        0         \n",
            " 2D)                                                             \n",
            "                                                                 \n",
            " dropout_2 (Dropout)         (None, 4, 4, 128)         0         \n",
            "                                                                 \n",
            " flatten (Flatten)           (None, 2048)              0         \n",
            "                                                                 \n",
            " dense (Dense)               (None, 128)               262272    \n",
            "                                                                 \n",
            " batch_normalization_6 (Batc  (None, 128)              512       \n",
            " hNormalization)                                                 \n",
            "                                                                 \n",
            " dropout_3 (Dropout)         (None, 128)               0         \n",
            "                                                                 \n",
            " dense_1 (Dense)             (None, 10)                1290      \n",
            "                                                                 \n",
            "=================================================================\n",
            "Total params: 552,874\n",
            "Trainable params: 551,722\n",
            "Non-trainable params: 1,152\n",
            "_________________________________________________________________\n"
          ]
        }
      ],
      "source": [
        "model = model_2()\n",
        "model.summary()"
      ]
    },
    {
      "cell_type": "code",
      "execution_count": 8,
      "metadata": {
        "id": "v1w5poXVrcWu"
      },
      "outputs": [],
      "source": [
        "# Compile the model\n",
        "model.compile(loss=loss_function,\n",
        "              optimizer=optimizer,\n",
        "              metrics=['accuracy'])"
      ]
    },
    {
      "cell_type": "code",
      "source": [
        "# Fit data to model\n",
        "history = model.fit(input_train, target_train,\n",
        "            batch_size=batch_size,\n",
        "            epochs=no_epochs,\n",
        "            verbose=verbosity,\n",
        "            validation_split=validation_split)"
      ],
      "metadata": {
        "colab": {
          "base_uri": "https://localhost:8080/"
        },
        "id": "TSD64tckT3-U",
        "outputId": "2e6a8d66-3df4-4013-d755-6f9f8ab37a9a"
      },
      "execution_count": 9,
      "outputs": [
        {
          "output_type": "stream",
          "name": "stdout",
          "text": [
            "Epoch 1/50\n",
            "800/800 [==============================] - 219s 273ms/step - loss: 1.7656 - accuracy: 0.3923 - val_loss: 1.3418 - val_accuracy: 0.5104\n",
            "Epoch 2/50\n",
            "800/800 [==============================] - 218s 273ms/step - loss: 1.2525 - accuracy: 0.5509 - val_loss: 1.0080 - val_accuracy: 0.6390\n",
            "Epoch 3/50\n",
            "800/800 [==============================] - 217s 272ms/step - loss: 1.0492 - accuracy: 0.6283 - val_loss: 0.8586 - val_accuracy: 0.6949\n",
            "Epoch 4/50\n",
            "800/800 [==============================] - 218s 273ms/step - loss: 0.9347 - accuracy: 0.6723 - val_loss: 0.7718 - val_accuracy: 0.7235\n",
            "Epoch 5/50\n",
            "800/800 [==============================] - 218s 272ms/step - loss: 0.8630 - accuracy: 0.7010 - val_loss: 0.9383 - val_accuracy: 0.6921\n",
            "Epoch 6/50\n",
            "800/800 [==============================] - 216s 271ms/step - loss: 0.8058 - accuracy: 0.7202 - val_loss: 0.6710 - val_accuracy: 0.7641\n",
            "Epoch 7/50\n",
            "800/800 [==============================] - 218s 272ms/step - loss: 0.7544 - accuracy: 0.7386 - val_loss: 0.6872 - val_accuracy: 0.7632\n",
            "Epoch 8/50\n",
            "800/800 [==============================] - 216s 270ms/step - loss: 0.7141 - accuracy: 0.7533 - val_loss: 0.6823 - val_accuracy: 0.7618\n",
            "Epoch 9/50\n",
            "800/800 [==============================] - 217s 271ms/step - loss: 0.6891 - accuracy: 0.7618 - val_loss: 0.6462 - val_accuracy: 0.7784\n",
            "Epoch 10/50\n",
            "800/800 [==============================] - 216s 270ms/step - loss: 0.6576 - accuracy: 0.7744 - val_loss: 0.6150 - val_accuracy: 0.7866\n",
            "Epoch 11/50\n",
            "800/800 [==============================] - 216s 271ms/step - loss: 0.6344 - accuracy: 0.7808 - val_loss: 0.6113 - val_accuracy: 0.7888\n",
            "Epoch 12/50\n",
            "800/800 [==============================] - 215s 269ms/step - loss: 0.6060 - accuracy: 0.7901 - val_loss: 0.5919 - val_accuracy: 0.7976\n",
            "Epoch 13/50\n",
            "800/800 [==============================] - 216s 270ms/step - loss: 0.5830 - accuracy: 0.7995 - val_loss: 0.5339 - val_accuracy: 0.8155\n",
            "Epoch 14/50\n",
            "800/800 [==============================] - 215s 269ms/step - loss: 0.5715 - accuracy: 0.8043 - val_loss: 0.5490 - val_accuracy: 0.8134\n",
            "Epoch 15/50\n",
            "800/800 [==============================] - 216s 270ms/step - loss: 0.5506 - accuracy: 0.8104 - val_loss: 0.5491 - val_accuracy: 0.8120\n",
            "Epoch 16/50\n",
            "800/800 [==============================] - 216s 270ms/step - loss: 0.5370 - accuracy: 0.8135 - val_loss: 0.5268 - val_accuracy: 0.8147\n",
            "Epoch 17/50\n",
            "800/800 [==============================] - 217s 271ms/step - loss: 0.5267 - accuracy: 0.8186 - val_loss: 0.4964 - val_accuracy: 0.8325\n",
            "Epoch 18/50\n",
            "800/800 [==============================] - 215s 269ms/step - loss: 0.5144 - accuracy: 0.8235 - val_loss: 0.4948 - val_accuracy: 0.8303\n",
            "Epoch 19/50\n",
            "800/800 [==============================] - 218s 273ms/step - loss: 0.5009 - accuracy: 0.8284 - val_loss: 0.6360 - val_accuracy: 0.7954\n",
            "Epoch 20/50\n",
            "800/800 [==============================] - 216s 271ms/step - loss: 0.4984 - accuracy: 0.8284 - val_loss: 0.4692 - val_accuracy: 0.8380\n",
            "Epoch 21/50\n",
            "800/800 [==============================] - 215s 269ms/step - loss: 0.4832 - accuracy: 0.8327 - val_loss: 0.4965 - val_accuracy: 0.8326\n",
            "Epoch 22/50\n",
            "800/800 [==============================] - 216s 270ms/step - loss: 0.4696 - accuracy: 0.8385 - val_loss: 0.4872 - val_accuracy: 0.8340\n",
            "Epoch 23/50\n",
            "800/800 [==============================] - 215s 269ms/step - loss: 0.4635 - accuracy: 0.8412 - val_loss: 0.4979 - val_accuracy: 0.8327\n",
            "Epoch 24/50\n",
            "800/800 [==============================] - 215s 269ms/step - loss: 0.4557 - accuracy: 0.8436 - val_loss: 0.5027 - val_accuracy: 0.8313\n",
            "Epoch 25/50\n",
            "800/800 [==============================] - 215s 269ms/step - loss: 0.4539 - accuracy: 0.8434 - val_loss: 0.5156 - val_accuracy: 0.8282\n",
            "Epoch 26/50\n",
            "800/800 [==============================] - 215s 269ms/step - loss: 0.4356 - accuracy: 0.8502 - val_loss: 0.4513 - val_accuracy: 0.8470\n",
            "Epoch 27/50\n",
            "800/800 [==============================] - 216s 270ms/step - loss: 0.4306 - accuracy: 0.8514 - val_loss: 0.5499 - val_accuracy: 0.8191\n",
            "Epoch 28/50\n",
            "800/800 [==============================] - 216s 270ms/step - loss: 0.4303 - accuracy: 0.8516 - val_loss: 0.4443 - val_accuracy: 0.8497\n",
            "Epoch 29/50\n",
            "800/800 [==============================] - 216s 269ms/step - loss: 0.4232 - accuracy: 0.8558 - val_loss: 0.4949 - val_accuracy: 0.8388\n",
            "Epoch 30/50\n",
            "800/800 [==============================] - 215s 269ms/step - loss: 0.4128 - accuracy: 0.8566 - val_loss: 0.4613 - val_accuracy: 0.8441\n",
            "Epoch 31/50\n",
            "800/800 [==============================] - 216s 270ms/step - loss: 0.4124 - accuracy: 0.8569 - val_loss: 0.4433 - val_accuracy: 0.8511\n",
            "Epoch 32/50\n",
            "800/800 [==============================] - 216s 271ms/step - loss: 0.4067 - accuracy: 0.8595 - val_loss: 0.4530 - val_accuracy: 0.8493\n",
            "Epoch 33/50\n",
            "800/800 [==============================] - 217s 271ms/step - loss: 0.3971 - accuracy: 0.8637 - val_loss: 0.4632 - val_accuracy: 0.8448\n",
            "Epoch 34/50\n",
            "800/800 [==============================] - 218s 272ms/step - loss: 0.3955 - accuracy: 0.8645 - val_loss: 0.4393 - val_accuracy: 0.8551\n",
            "Epoch 35/50\n",
            "800/800 [==============================] - 217s 271ms/step - loss: 0.3880 - accuracy: 0.8676 - val_loss: 0.4242 - val_accuracy: 0.8595\n",
            "Epoch 36/50\n",
            "800/800 [==============================] - 217s 271ms/step - loss: 0.3850 - accuracy: 0.8685 - val_loss: 0.4638 - val_accuracy: 0.8484\n",
            "Epoch 37/50\n",
            "800/800 [==============================] - 217s 272ms/step - loss: 0.3793 - accuracy: 0.8684 - val_loss: 0.4413 - val_accuracy: 0.8563\n",
            "Epoch 38/50\n",
            "800/800 [==============================] - 216s 271ms/step - loss: 0.3731 - accuracy: 0.8704 - val_loss: 0.4414 - val_accuracy: 0.8543\n",
            "Epoch 39/50\n",
            "800/800 [==============================] - 216s 270ms/step - loss: 0.3767 - accuracy: 0.8689 - val_loss: 0.4696 - val_accuracy: 0.8458\n",
            "Epoch 40/50\n",
            "800/800 [==============================] - 217s 272ms/step - loss: 0.3726 - accuracy: 0.8688 - val_loss: 0.4366 - val_accuracy: 0.8535\n",
            "Epoch 41/50\n",
            "800/800 [==============================] - 217s 271ms/step - loss: 0.3672 - accuracy: 0.8726 - val_loss: 0.4322 - val_accuracy: 0.8568\n",
            "Epoch 42/50\n",
            "800/800 [==============================] - 217s 271ms/step - loss: 0.3621 - accuracy: 0.8751 - val_loss: 0.4185 - val_accuracy: 0.8602\n",
            "Epoch 43/50\n",
            "800/800 [==============================] - 218s 272ms/step - loss: 0.3596 - accuracy: 0.8752 - val_loss: 0.4415 - val_accuracy: 0.8549\n",
            "Epoch 44/50\n",
            "800/800 [==============================] - 217s 271ms/step - loss: 0.3545 - accuracy: 0.8765 - val_loss: 0.4375 - val_accuracy: 0.8571\n",
            "Epoch 45/50\n",
            "800/800 [==============================] - 217s 271ms/step - loss: 0.3492 - accuracy: 0.8778 - val_loss: 0.4668 - val_accuracy: 0.8490\n",
            "Epoch 46/50\n",
            "800/800 [==============================] - 218s 273ms/step - loss: 0.3451 - accuracy: 0.8791 - val_loss: 0.5082 - val_accuracy: 0.8416\n",
            "Epoch 47/50\n",
            "800/800 [==============================] - 217s 272ms/step - loss: 0.3441 - accuracy: 0.8813 - val_loss: 0.4311 - val_accuracy: 0.8605\n",
            "Epoch 48/50\n",
            "800/800 [==============================] - 217s 272ms/step - loss: 0.3420 - accuracy: 0.8819 - val_loss: 0.4694 - val_accuracy: 0.8453\n",
            "Epoch 49/50\n",
            "800/800 [==============================] - 217s 272ms/step - loss: 0.3424 - accuracy: 0.8827 - val_loss: 0.4202 - val_accuracy: 0.8632\n",
            "Epoch 50/50\n",
            "800/800 [==============================] - 218s 272ms/step - loss: 0.3391 - accuracy: 0.8830 - val_loss: 0.4583 - val_accuracy: 0.8519\n"
          ]
        }
      ]
    },
    {
      "cell_type": "code",
      "source": [
        "# Generate generalization metrics\n",
        "score = model.evaluate(input_test, target_test, verbose=0)\n",
        "print(f'Test loss: {score[0]} / Test accuracy: {score[1]}')\n",
        "\n",
        "# Visualize history\n",
        "# Plot history: Loss\n",
        "plt.plot(history.history['val_loss'])\n",
        "plt.title('Validation loss history')\n",
        "plt.ylabel('Loss value')\n",
        "plt.xlabel('No. epoch')\n",
        "plt.show()\n",
        "\n",
        "# Plot history: Accuracy\n",
        "plt.plot(history.history['val_accuracy'])\n",
        "plt.title('Validation accuracy history')\n",
        "plt.ylabel('Accuracy value (%)')\n",
        "plt.xlabel('No. epoch')\n",
        "plt.show()"
      ],
      "metadata": {
        "colab": {
          "base_uri": "https://localhost:8080/",
          "height": 590
        },
        "id": "Esf04bLMcDjP",
        "outputId": "0ab097e2-042c-4444-c2b1-a05616c11cc9"
      },
      "execution_count": 10,
      "outputs": [
        {
          "output_type": "stream",
          "name": "stdout",
          "text": [
            "Test loss: 0.4793689548969269 / Test accuracy: 0.8438000082969666\n"
          ]
        },
        {
          "output_type": "display_data",
          "data": {
            "text/plain": [
              "<Figure size 432x288 with 1 Axes>"
            ],
            "image/png": "[encoded data removed]"
          },
          "metadata": {
            "needs_background": "light"
          }
        },
        {
          "output_type": "display_data",
          "data": {
            "text/plain": [
              "<Figure size 432x288 with 1 Axes>"
            ],
            "image/png": "[encoded data removed]"
          },
          "metadata": {
            "needs_background": "light"
          }
        }
      ]
    }
  ],
  "metadata": {
    "colab": {
      "provenance": []
    },
    "kernelspec": {
      "display_name": "Python 3",
      "name": "python3"
    },
    "language_info": {
      "name": "python"
    }
  },
  "nbformat": 4,
  "nbformat_minor": 0
}