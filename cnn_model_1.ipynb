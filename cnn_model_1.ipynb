{
  "cells": [
    {
      "cell_type": "code",
      "execution_count": 1,
      "metadata": {
        "id": "CCEWlC_elxc8"
      },
      "outputs": [],
      "source": [
        "from tensorflow.keras.datasets import cifar10\n",
        "from tensorflow.keras.models import Sequential\n",
        "from tensorflow.keras.layers import Dense, Flatten, Conv2D, MaxPooling2D, GlobalAveragePooling2D, BatchNormalization, Dropout\n",
        "from tensorflow.keras.losses import sparse_categorical_crossentropy\n",
        "from tensorflow.keras.optimizers import Adam\n",
        "from tensorflow.keras.applications.resnet50 import ResNet50\n",
        "import matplotlib.pyplot as plt"
      ]
    },
    {
      "cell_type": "code",
      "execution_count": 2,
      "metadata": {
        "id": "MIM0sOG9nUVS"
      },
      "outputs": [],
      "source": [
        "# Model configuration\n",
        "batch_size = 50\n",
        "img_width, img_height, img_num_channels = 32, 32, 3\n",
        "loss_function = sparse_categorical_crossentropy\n",
        "no_classes = 10\n",
        "no_epochs = 50\n",
        "optimizer = Adam()\n",
        "validation_split = 0.2\n",
        "verbosity = 1"
      ]
    },
    {
      "cell_type": "code",
      "execution_count": 3,
      "metadata": {
        "id": "QdkXHbzynrmi",
        "colab": {
          "base_uri": "https://localhost:8080/"
        },
        "outputId": "9791d9f3-c1ac-4096-8a31-427051233048"
      },
      "outputs": [
        {
          "output_type": "stream",
          "name": "stdout",
          "text": [
            "Downloading data from https://www.cs.toronto.edu/~kriz/cifar-10-python.tar.gz\n",
            "170498071/170498071 [==============================] - 3s 0us/step\n"
          ]
        }
      ],
      "source": [
        "# Load CIFAR-10 data\n",
        "(input_train, target_train), (input_test, target_test) = cifar10.load_data()"
      ]
    },
    {
      "cell_type": "code",
      "source": [
        "# Determine shape of the data\n",
        "input_shape = (img_width, img_height, img_num_channels)"
      ],
      "metadata": {
        "id": "F7aRzJADlFpz"
      },
      "execution_count": 4,
      "outputs": []
    },
    {
      "cell_type": "code",
      "source": [
        "# Parse numbers as floats\n",
        "input_train = input_train.astype('float32')\n",
        "input_test = input_test.astype('float32')\n",
        "\n",
        "# Normalize data\n",
        "input_train = input_train / 255\n",
        "input_test = input_test / 255"
      ],
      "metadata": {
        "id": "vB20HatllM80"
      },
      "execution_count": 5,
      "outputs": []
    },
    {
      "cell_type": "code",
      "source": [
        "print(input_train.shape)\n",
        "print(input_test.shape)\n",
        "print(input_shape)"
      ],
      "metadata": {
        "colab": {
          "base_uri": "https://localhost:8080/"
        },
        "id": "Gj1YyT4o0wJ7",
        "outputId": "8307c2c2-9aee-4fff-992c-87f135d68c40"
      },
      "execution_count": null,
      "outputs": [
        {
          "output_type": "stream",
          "name": "stdout",
          "text": [
            "(50000, 32, 32, 3)\n",
            "(10000, 32, 32, 3)\n",
            "(32, 32, 3)\n"
          ]
        }
      ]
    },
    {
      "cell_type": "markdown",
      "metadata": {
        "id": "9B1-R0IXpWSl"
      },
      "source": [
        "**Models**"
      ]
    },
    {
      "cell_type": "code",
      "source": [
        "def model_1():\n",
        "  model = Sequential()\n",
        "  model.add(Conv2D(32, kernel_size=(3, 3), activation='relu', input_shape=input_shape))\n",
        "  model.add(MaxPooling2D(pool_size=(2, 2)))\n",
        "  model.add(Conv2D(64, kernel_size=(3, 3), activation='relu'))\n",
        "  model.add(MaxPooling2D(pool_size=(2, 2)))\n",
        "  model.add(Conv2D(128, kernel_size=(3, 3), activation='relu'))\n",
        "  model.add(MaxPooling2D(pool_size=(2, 2)))\n",
        "  model.add(Flatten())\n",
        "  model.add(Dense(256, activation='relu'))\n",
        "  model.add(Dense(128, activation='relu'))\n",
        "  model.add(Dense(no_classes, activation='softmax'))\n",
        "\n",
        "  return model"
      ],
      "metadata": {
        "id": "a_vS26cwgXVb"
      },
      "execution_count": 6,
      "outputs": []
    },
    {
      "cell_type": "code",
      "source": [
        "def model_x():\n",
        "  model = Sequential()\n",
        "  model.add(ResNet50(include_top=False, weights='imagenet'))\n",
        "  model.add(GlobalAveragePooling2D())\n",
        "  model.add(Flatten())\n",
        "  model.add(Dense(256, activation='relu'))\n",
        "  model.add(Dense(128, activation='relu'))\n",
        "  model.add(Dense(no_classes, activation='softmax'))\n",
        "\n",
        "  return model"
      ],
      "metadata": {
        "id": "S02ATdaEN1a8"
      },
      "execution_count": null,
      "outputs": []
    },
    {
      "cell_type": "code",
      "execution_count": 7,
      "metadata": {
        "colab": {
          "base_uri": "https://localhost:8080/"
        },
        "id": "oSmTqTOsrDSJ",
        "outputId": "f4526309-0761-4e6e-e2c6-9a2dc5346927"
      },
      "outputs": [
        {
          "output_type": "stream",
          "name": "stdout",
          "text": [
            "Model: \"sequential\"\n",
            "_________________________________________________________________\n",
            " Layer (type)                Output Shape              Param #   \n",
            "=================================================================\n",
            " conv2d (Conv2D)             (None, 30, 30, 32)        896       \n",
            "                                                                 \n",
            " max_pooling2d (MaxPooling2D  (None, 15, 15, 32)       0         \n",
            " )                                                               \n",
            "                                                                 \n",
            " conv2d_1 (Conv2D)           (None, 13, 13, 64)        18496     \n",
            "                                                                 \n",
            " max_pooling2d_1 (MaxPooling  (None, 6, 6, 64)         0         \n",
            " 2D)                                                             \n",
            "                                                                 \n",
            " conv2d_2 (Conv2D)           (None, 4, 4, 128)         73856     \n",
            "                                                                 \n",
            " max_pooling2d_2 (MaxPooling  (None, 2, 2, 128)        0         \n",
            " 2D)                                                             \n",
            "                                                                 \n",
            " flatten (Flatten)           (None, 512)               0         \n",
            "                                                                 \n",
            " dense (Dense)               (None, 256)               131328    \n",
            "                                                                 \n",
            " dense_1 (Dense)             (None, 128)               32896     \n",
            "                                                                 \n",
            " dense_2 (Dense)             (None, 10)                1290      \n",
            "                                                                 \n",
            "=================================================================\n",
            "Total params: 258,762\n",
            "Trainable params: 258,762\n",
            "Non-trainable params: 0\n",
            "_________________________________________________________________\n"
          ]
        }
      ],
      "source": [
        "model = model_1()\n",
        "model.summary()"
      ]
    },
    {
      "cell_type": "code",
      "execution_count": 8,
      "metadata": {
        "id": "v1w5poXVrcWu"
      },
      "outputs": [],
      "source": [
        "# Compile the model\n",
        "model.compile(loss=loss_function,\n",
        "              optimizer=optimizer,\n",
        "              metrics=['accuracy'])"
      ]
    },
    {
      "cell_type": "code",
      "source": [
        "# Fit data to model\n",
        "history = model.fit(input_train, target_train,\n",
        "            batch_size=batch_size,\n",
        "            epochs=no_epochs,\n",
        "            verbose=verbosity,\n",
        "            validation_split=validation_split)"
      ],
      "metadata": {
        "colab": {
          "base_uri": "https://localhost:8080/"
        },
        "id": "TSD64tckT3-U",
        "outputId": "e6b6caf2-aea0-4635-f3a8-f4aec84a20b3"
      },
      "execution_count": 9,
      "outputs": [
        {
          "output_type": "stream",
          "name": "stdout",
          "text": [
            "Epoch 1/50\n",
            "800/800 [==============================] - 71s 87ms/step - loss: 1.6221 - accuracy: 0.3950 - val_loss: 1.4505 - val_accuracy: 0.4912\n",
            "Epoch 2/50\n",
            "800/800 [==============================] - 70s 87ms/step - loss: 1.2164 - accuracy: 0.5651 - val_loss: 1.1186 - val_accuracy: 0.5987\n",
            "Epoch 3/50\n",
            "800/800 [==============================] - 68s 84ms/step - loss: 1.0336 - accuracy: 0.6345 - val_loss: 0.9985 - val_accuracy: 0.6446\n",
            "Epoch 4/50\n",
            "800/800 [==============================] - 67s 84ms/step - loss: 0.9050 - accuracy: 0.6814 - val_loss: 0.9436 - val_accuracy: 0.6712\n",
            "Epoch 5/50\n",
            "800/800 [==============================] - 69s 86ms/step - loss: 0.8124 - accuracy: 0.7143 - val_loss: 0.8965 - val_accuracy: 0.6895\n",
            "Epoch 6/50\n",
            "800/800 [==============================] - 67s 84ms/step - loss: 0.7414 - accuracy: 0.7410 - val_loss: 0.8657 - val_accuracy: 0.7028\n",
            "Epoch 7/50\n",
            "800/800 [==============================] - 66s 83ms/step - loss: 0.6703 - accuracy: 0.7661 - val_loss: 0.8705 - val_accuracy: 0.6992\n",
            "Epoch 8/50\n",
            "800/800 [==============================] - 68s 84ms/step - loss: 0.6151 - accuracy: 0.7849 - val_loss: 0.8520 - val_accuracy: 0.7096\n",
            "Epoch 9/50\n",
            "800/800 [==============================] - 66s 83ms/step - loss: 0.5468 - accuracy: 0.8091 - val_loss: 0.9733 - val_accuracy: 0.6849\n",
            "Epoch 10/50\n",
            "800/800 [==============================] - 67s 83ms/step - loss: 0.5011 - accuracy: 0.8240 - val_loss: 0.9496 - val_accuracy: 0.7063\n",
            "Epoch 11/50\n",
            "800/800 [==============================] - 68s 85ms/step - loss: 0.4448 - accuracy: 0.8458 - val_loss: 0.9652 - val_accuracy: 0.6958\n",
            "Epoch 12/50\n",
            "800/800 [==============================] - 67s 83ms/step - loss: 0.4079 - accuracy: 0.8548 - val_loss: 0.9760 - val_accuracy: 0.7082\n",
            "Epoch 13/50\n",
            "800/800 [==============================] - 66s 82ms/step - loss: 0.3630 - accuracy: 0.8724 - val_loss: 1.0662 - val_accuracy: 0.6990\n",
            "Epoch 14/50\n",
            "800/800 [==============================] - 66s 82ms/step - loss: 0.3300 - accuracy: 0.8825 - val_loss: 1.0969 - val_accuracy: 0.6988\n",
            "Epoch 15/50\n",
            "800/800 [==============================] - 68s 85ms/step - loss: 0.2882 - accuracy: 0.8981 - val_loss: 1.2073 - val_accuracy: 0.6950\n",
            "Epoch 16/50\n",
            "800/800 [==============================] - 71s 89ms/step - loss: 0.2556 - accuracy: 0.9097 - val_loss: 1.3578 - val_accuracy: 0.6874\n",
            "Epoch 17/50\n",
            "800/800 [==============================] - 72s 90ms/step - loss: 0.2409 - accuracy: 0.9144 - val_loss: 1.2895 - val_accuracy: 0.7080\n",
            "Epoch 18/50\n",
            "800/800 [==============================] - 71s 89ms/step - loss: 0.2167 - accuracy: 0.9232 - val_loss: 1.3762 - val_accuracy: 0.6975\n",
            "Epoch 19/50\n",
            "800/800 [==============================] - 71s 89ms/step - loss: 0.1943 - accuracy: 0.9312 - val_loss: 1.4206 - val_accuracy: 0.6984\n",
            "Epoch 20/50\n",
            "800/800 [==============================] - 72s 90ms/step - loss: 0.1704 - accuracy: 0.9393 - val_loss: 1.5283 - val_accuracy: 0.6907\n",
            "Epoch 21/50\n",
            "800/800 [==============================] - 71s 89ms/step - loss: 0.1688 - accuracy: 0.9402 - val_loss: 1.6387 - val_accuracy: 0.6874\n",
            "Epoch 22/50\n",
            "800/800 [==============================] - 71s 89ms/step - loss: 0.1566 - accuracy: 0.9449 - val_loss: 1.5935 - val_accuracy: 0.7003\n",
            "Epoch 23/50\n",
            "800/800 [==============================] - 72s 91ms/step - loss: 0.1406 - accuracy: 0.9513 - val_loss: 1.6644 - val_accuracy: 0.7002\n",
            "Epoch 24/50\n",
            "800/800 [==============================] - 67s 84ms/step - loss: 0.1377 - accuracy: 0.9512 - val_loss: 1.7215 - val_accuracy: 0.7019\n",
            "Epoch 25/50\n",
            "800/800 [==============================] - 66s 83ms/step - loss: 0.1320 - accuracy: 0.9542 - val_loss: 1.6661 - val_accuracy: 0.7050\n",
            "Epoch 26/50\n",
            "800/800 [==============================] - 67s 84ms/step - loss: 0.1237 - accuracy: 0.9577 - val_loss: 1.7276 - val_accuracy: 0.6986\n",
            "Epoch 27/50\n",
            "800/800 [==============================] - 66s 83ms/step - loss: 0.1222 - accuracy: 0.9585 - val_loss: 1.7601 - val_accuracy: 0.7011\n",
            "Epoch 28/50\n",
            "800/800 [==============================] - 66s 83ms/step - loss: 0.1186 - accuracy: 0.9585 - val_loss: 1.9206 - val_accuracy: 0.6950\n",
            "Epoch 29/50\n",
            "800/800 [==============================] - 68s 85ms/step - loss: 0.1201 - accuracy: 0.9588 - val_loss: 1.8783 - val_accuracy: 0.6889\n",
            "Epoch 30/50\n",
            "800/800 [==============================] - 66s 82ms/step - loss: 0.1119 - accuracy: 0.9621 - val_loss: 2.0840 - val_accuracy: 0.6740\n",
            "Epoch 31/50\n",
            "800/800 [==============================] - 68s 85ms/step - loss: 0.0976 - accuracy: 0.9666 - val_loss: 2.0028 - val_accuracy: 0.6956\n",
            "Epoch 32/50\n",
            "800/800 [==============================] - 67s 84ms/step - loss: 0.0974 - accuracy: 0.9666 - val_loss: 2.0196 - val_accuracy: 0.6966\n",
            "Epoch 33/50\n",
            "800/800 [==============================] - 66s 83ms/step - loss: 0.1019 - accuracy: 0.9664 - val_loss: 2.0061 - val_accuracy: 0.7049\n",
            "Epoch 34/50\n",
            "800/800 [==============================] - 66s 82ms/step - loss: 0.1034 - accuracy: 0.9654 - val_loss: 2.0435 - val_accuracy: 0.6928\n",
            "Epoch 35/50\n",
            "800/800 [==============================] - 67s 84ms/step - loss: 0.0958 - accuracy: 0.9672 - val_loss: 2.0562 - val_accuracy: 0.6966\n",
            "Epoch 36/50\n",
            "800/800 [==============================] - 67s 84ms/step - loss: 0.1000 - accuracy: 0.9651 - val_loss: 2.0027 - val_accuracy: 0.6898\n",
            "Epoch 37/50\n",
            "800/800 [==============================] - 66s 83ms/step - loss: 0.0914 - accuracy: 0.9693 - val_loss: 2.2796 - val_accuracy: 0.6894\n",
            "Epoch 38/50\n",
            "800/800 [==============================] - 69s 86ms/step - loss: 0.0894 - accuracy: 0.9705 - val_loss: 2.3158 - val_accuracy: 0.6805\n",
            "Epoch 39/50\n",
            "800/800 [==============================] - 67s 83ms/step - loss: 0.0854 - accuracy: 0.9716 - val_loss: 2.1740 - val_accuracy: 0.6982\n",
            "Epoch 40/50\n",
            "800/800 [==============================] - 66s 82ms/step - loss: 0.0862 - accuracy: 0.9706 - val_loss: 2.2210 - val_accuracy: 0.6892\n",
            "Epoch 41/50\n",
            "800/800 [==============================] - 66s 82ms/step - loss: 0.0881 - accuracy: 0.9696 - val_loss: 2.3166 - val_accuracy: 0.6926\n",
            "Epoch 42/50\n",
            "800/800 [==============================] - 67s 84ms/step - loss: 0.0853 - accuracy: 0.9712 - val_loss: 2.2531 - val_accuracy: 0.6971\n",
            "Epoch 43/50\n",
            "800/800 [==============================] - 67s 84ms/step - loss: 0.0779 - accuracy: 0.9753 - val_loss: 2.2817 - val_accuracy: 0.6949\n",
            "Epoch 44/50\n",
            "800/800 [==============================] - 67s 84ms/step - loss: 0.0869 - accuracy: 0.9716 - val_loss: 2.2992 - val_accuracy: 0.6914\n",
            "Epoch 45/50\n",
            "800/800 [==============================] - 68s 85ms/step - loss: 0.0787 - accuracy: 0.9744 - val_loss: 2.3031 - val_accuracy: 0.6881\n",
            "Epoch 46/50\n",
            "800/800 [==============================] - 67s 83ms/step - loss: 0.0709 - accuracy: 0.9763 - val_loss: 2.4680 - val_accuracy: 0.6881\n",
            "Epoch 47/50\n",
            "800/800 [==============================] - 67s 83ms/step - loss: 0.0784 - accuracy: 0.9749 - val_loss: 2.4192 - val_accuracy: 0.6955\n",
            "Epoch 48/50\n",
            "800/800 [==============================] - 69s 86ms/step - loss: 0.0788 - accuracy: 0.9737 - val_loss: 2.3848 - val_accuracy: 0.6901\n",
            "Epoch 49/50\n",
            "800/800 [==============================] - 67s 83ms/step - loss: 0.0790 - accuracy: 0.9743 - val_loss: 2.3415 - val_accuracy: 0.6877\n",
            "Epoch 50/50\n",
            "800/800 [==============================] - 67s 84ms/step - loss: 0.0728 - accuracy: 0.9762 - val_loss: 2.4954 - val_accuracy: 0.6964\n"
          ]
        }
      ]
    },
    {
      "cell_type": "code",
      "source": [
        "# Generate generalization metrics\n",
        "score = model.evaluate(input_test, target_test, verbose=0)\n",
        "print(f'Test loss: {score[0]} / Test accuracy: {score[1]}')\n",
        "\n",
        "# Visualize history\n",
        "# Plot history: Loss\n",
        "plt.plot(history.history['val_loss'])\n",
        "plt.title('Validation loss history')\n",
        "plt.ylabel('Loss value')\n",
        "plt.xlabel('No. epoch')\n",
        "plt.show()\n",
        "\n",
        "# Plot history: Accuracy\n",
        "plt.plot(history.history['val_accuracy'])\n",
        "plt.title('Validation accuracy history')\n",
        "plt.ylabel('Accuracy value (%)')\n",
        "plt.xlabel('No. epoch')\n",
        "plt.show()"
      ],
      "metadata": {
        "colab": {
          "base_uri": "https://localhost:8080/",
          "height": 590
        },
        "id": "Esf04bLMcDjP",
        "outputId": "6c36f738-0c6d-4c34-b3da-410c665d1aab"
      },
      "execution_count": 10,
      "outputs": [
        {
          "output_type": "stream",
          "name": "stdout",
          "text": [
            "Test loss: 2.4760124683380127 / Test accuracy: 0.6962000131607056\n"
          ]
        },
        {
          "output_type": "display_data",
          "data": {
            "text/plain": [
              "<Figure size 432x288 with 1 Axes>"
            ],
            "image/png": "[encoded data removed]"
          },
          "metadata": {
            "needs_background": "light"
          }
        },
        {
          "output_type": "display_data",
          "data": {
            "text/plain": [
              "<Figure size 432x288 with 1 Axes>"
            ],
            "image/png": "[encoded data removed]"
          },
          "metadata": {
            "needs_background": "light"
          }
        }
      ]
    }
  ],
  "metadata": {
    "colab": {
      "provenance": []
    },
    "kernelspec": {
      "display_name": "Python 3",
      "name": "python3"
    },
    "language_info": {
      "name": "python"
    }
  },
  "nbformat": 4,
  "nbformat_minor": 0
}