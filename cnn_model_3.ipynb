{
  "cells": [
    {
      "cell_type": "code",
      "execution_count": 1,
      "metadata": {
        "id": "CCEWlC_elxc8"
      },
      "outputs": [],
      "source": [
        "from tensorflow.keras.datasets import cifar10\n",
        "from tensorflow.keras.models import Sequential\n",
        "from tensorflow.keras.layers import Dense, Flatten, Conv2D, MaxPooling2D, GlobalAveragePooling2D, BatchNormalization, Dropout\n",
        "from tensorflow.keras.losses import sparse_categorical_crossentropy\n",
        "from tensorflow.keras.optimizers import Adam\n",
        "from tensorflow.keras.applications.resnet50 import ResNet50\n",
        "import matplotlib.pyplot as plt"
      ]
    },
    {
      "cell_type": "code",
      "execution_count": 2,
      "metadata": {
        "id": "MIM0sOG9nUVS"
      },
      "outputs": [],
      "source": [
        "# Model configuration\n",
        "batch_size = 50\n",
        "img_width, img_height, img_num_channels = 32, 32, 3\n",
        "loss_function = sparse_categorical_crossentropy\n",
        "no_classes = 10\n",
        "no_epochs = 50\n",
        "optimizer = Adam()\n",
        "validation_split = 0.2\n",
        "verbosity = 1"
      ]
    },
    {
      "cell_type": "code",
      "execution_count": 4,
      "metadata": {
        "id": "QdkXHbzynrmi",
        "colab": {
          "base_uri": "https://localhost:8080/"
        },
        "outputId": "a1f2045f-dc8b-4848-bfb2-c892151e2962"
      },
      "outputs": [
        {
          "output_type": "stream",
          "name": "stdout",
          "text": [
            "Downloading data from https://www.cs.toronto.edu/~kriz/cifar-10-python.tar.gz\n",
            "170498071/170498071 [==============================] - 28s 0us/step\n"
          ]
        }
      ],
      "source": [
        "# Load CIFAR-10 data\n",
        "(input_train, target_train), (input_test, target_test) = cifar10.load_data()"
      ]
    },
    {
      "cell_type": "code",
      "source": [
        "# Determine shape of the data\n",
        "input_shape = (img_width, img_height, img_num_channels)"
      ],
      "metadata": {
        "id": "F7aRzJADlFpz"
      },
      "execution_count": 5,
      "outputs": []
    },
    {
      "cell_type": "code",
      "source": [
        "# Parse numbers as floats\n",
        "input_train = input_train.astype('float32')\n",
        "input_test = input_test.astype('float32')\n",
        "\n",
        "# Normalize data\n",
        "input_train = input_train / 255\n",
        "input_test = input_test / 255"
      ],
      "metadata": {
        "id": "vB20HatllM80"
      },
      "execution_count": 6,
      "outputs": []
    },
    {
      "cell_type": "code",
      "source": [
        "print(input_train.shape)\n",
        "print(input_test.shape)\n",
        "print(input_shape)"
      ],
      "metadata": {
        "colab": {
          "base_uri": "https://localhost:8080/"
        },
        "id": "Gj1YyT4o0wJ7",
        "outputId": "8307c2c2-9aee-4fff-992c-87f135d68c40"
      },
      "execution_count": null,
      "outputs": [
        {
          "output_type": "stream",
          "name": "stdout",
          "text": [
            "(50000, 32, 32, 3)\n",
            "(10000, 32, 32, 3)\n",
            "(32, 32, 3)\n"
          ]
        }
      ]
    },
    {
      "cell_type": "markdown",
      "metadata": {
        "id": "9B1-R0IXpWSl"
      },
      "source": [
        "**Models**"
      ]
    },
    {
      "cell_type": "code",
      "source": [
        "def model_1():\n",
        "  model = Sequential()\n",
        "  model.add(Conv2D(32, kernel_size=(3, 3), activation='relu', input_shape=input_shape))\n",
        "  model.add(MaxPooling2D(pool_size=(2, 2)))\n",
        "  model.add(Conv2D(64, kernel_size=(3, 3), activation='relu'))\n",
        "  model.add(MaxPooling2D(pool_size=(2, 2)))\n",
        "  model.add(Conv2D(128, kernel_size=(3, 3), activation='relu'))\n",
        "  model.add(MaxPooling2D(pool_size=(2, 2)))\n",
        "  model.add(Flatten())\n",
        "  model.add(Dense(256, activation='relu'))\n",
        "  model.add(Dense(128, activation='relu'))\n",
        "  model.add(Dense(no_classes, activation='softmax'))\n",
        "\n",
        "  return model"
      ],
      "metadata": {
        "id": "a_vS26cwgXVb"
      },
      "execution_count": 6,
      "outputs": []
    },
    {
      "cell_type": "code",
      "source": [
        "def model_2():\n",
        "  model = Sequential()\n",
        "\n",
        "  model.add(Conv2D(32, kernel_size=(3,3), padding='same', activation='relu', input_shape=input_shape))\n",
        "  model.add(BatchNormalization())\n",
        "  model.add(Conv2D(32, kernel_size=(3,3), padding='same', activation='relu'))\n",
        "  model.add(BatchNormalization())\n",
        "  model.add(MaxPooling2D(pool_size=(2,2)))\n",
        "  model.add(Dropout(0.3))\n",
        "\n",
        "  model.add(Conv2D(64, kernel_size=(3,3), padding='same', activation='relu'))\n",
        "  model.add(BatchNormalization())\n",
        "  model.add(Conv2D(64, kernel_size=(3,3), padding='same', activation='relu'))\n",
        "  model.add(BatchNormalization())\n",
        "  model.add(MaxPooling2D(pool_size=(2,2)))\n",
        "  model.add(Dropout(0.5))\n",
        "\n",
        "  model.add(Conv2D(128, kernel_size=(3,3), padding='same', activation='relu'))\n",
        "  model.add(BatchNormalization())\n",
        "  model.add(Conv2D(128, kernel_size=(3,3), padding='same', activation='relu'))\n",
        "  model.add(BatchNormalization())\n",
        "  model.add(MaxPooling2D(pool_size=(2,2)))\n",
        "  model.add(Dropout(0.5))\n",
        "\n",
        "  model.add(Flatten())\n",
        "  model.add(Dense(128, activation='relu'))\n",
        "  model.add(BatchNormalization())\n",
        "  model.add(Dropout(0.5))\n",
        "  model.add(Dense(no_classes, activation='softmax'))\n",
        "\n",
        "  return model"
      ],
      "metadata": {
        "id": "HuMpyGywbWTc"
      },
      "execution_count": null,
      "outputs": []
    },
    {
      "cell_type": "code",
      "source": [
        "def model_3():\n",
        "  model = Sequential()\n",
        "\n",
        "  model.add(Conv2D(32, kernel_size=(3, 3), activation='relu', input_shape=input_shape))\n",
        "  model.add(MaxPooling2D(pool_size=(2, 2)))\n",
        "  model.add(BatchNormalization())\n",
        "  model.add(Dropout(0.5))\n",
        "\n",
        "  model.add(Conv2D(64, kernel_size=(3, 3), activation='relu'))\n",
        "  model.add(MaxPooling2D(pool_size=(2, 2)))\n",
        "  model.add(BatchNormalization())\n",
        "  model.add(Dropout(0.5))\n",
        "\n",
        "  model.add(Conv2D(128, kernel_size=(3, 3), activation='relu'))\n",
        "  model.add(MaxPooling2D(pool_size=(2, 2)))\n",
        "  model.add(BatchNormalization())\n",
        "  model.add(Dropout(0.5))\n",
        "\n",
        "  model.add(Flatten())\n",
        "  model.add(Dense(256, activation='relu'))\n",
        "  model.add(Dense(128, activation='relu'))\n",
        "  model.add(BatchNormalization())\n",
        "  model.add(Dropout(0.5))\n",
        "  model.add(Dense(no_classes, activation='softmax'))\n",
        "\n",
        "  return model"
      ],
      "metadata": {
        "id": "ViOeHyo2dHZ_"
      },
      "execution_count": 7,
      "outputs": []
    },
    {
      "cell_type": "code",
      "execution_count": 8,
      "metadata": {
        "colab": {
          "base_uri": "https://localhost:8080/"
        },
        "id": "oSmTqTOsrDSJ",
        "outputId": "45a141a8-c363-451d-d612-8f510af31db9"
      },
      "outputs": [
        {
          "output_type": "stream",
          "name": "stdout",
          "text": [
            "Model: \"sequential\"\n",
            "_________________________________________________________________\n",
            " Layer (type)                Output Shape              Param #   \n",
            "=================================================================\n",
            " conv2d (Conv2D)             (None, 30, 30, 32)        896       \n",
            "                                                                 \n",
            " max_pooling2d (MaxPooling2D  (None, 15, 15, 32)       0         \n",
            " )                                                               \n",
            "                                                                 \n",
            " batch_normalization (BatchN  (None, 15, 15, 32)       128       \n",
            " ormalization)                                                   \n",
            "                                                                 \n",
            " dropout (Dropout)           (None, 15, 15, 32)        0         \n",
            "                                                                 \n",
            " conv2d_1 (Conv2D)           (None, 13, 13, 64)        18496     \n",
            "                                                                 \n",
            " max_pooling2d_1 (MaxPooling  (None, 6, 6, 64)         0         \n",
            " 2D)                                                             \n",
            "                                                                 \n",
            " batch_normalization_1 (Batc  (None, 6, 6, 64)         256       \n",
            " hNormalization)                                                 \n",
            "                                                                 \n",
            " dropout_1 (Dropout)         (None, 6, 6, 64)          0         \n",
            "                                                                 \n",
            " conv2d_2 (Conv2D)           (None, 4, 4, 128)         73856     \n",
            "                                                                 \n",
            " max_pooling2d_2 (MaxPooling  (None, 2, 2, 128)        0         \n",
            " 2D)                                                             \n",
            "                                                                 \n",
            " batch_normalization_2 (Batc  (None, 2, 2, 128)        512       \n",
            " hNormalization)                                                 \n",
            "                                                                 \n",
            " dropout_2 (Dropout)         (None, 2, 2, 128)         0         \n",
            "                                                                 \n",
            " flatten (Flatten)           (None, 512)               0         \n",
            "                                                                 \n",
            " dense (Dense)               (None, 256)               131328    \n",
            "                                                                 \n",
            " dense_1 (Dense)             (None, 128)               32896     \n",
            "                                                                 \n",
            " batch_normalization_3 (Batc  (None, 128)              512       \n",
            " hNormalization)                                                 \n",
            "                                                                 \n",
            " dropout_3 (Dropout)         (None, 128)               0         \n",
            "                                                                 \n",
            " dense_2 (Dense)             (None, 10)                1290      \n",
            "                                                                 \n",
            "=================================================================\n",
            "Total params: 260,170\n",
            "Trainable params: 259,466\n",
            "Non-trainable params: 704\n",
            "_________________________________________________________________\n"
          ]
        }
      ],
      "source": [
        "model = model_3()\n",
        "model.summary()"
      ]
    },
    {
      "cell_type": "code",
      "execution_count": 9,
      "metadata": {
        "id": "v1w5poXVrcWu"
      },
      "outputs": [],
      "source": [
        "# Compile the model\n",
        "model.compile(loss=loss_function,\n",
        "              optimizer=optimizer,\n",
        "              metrics=['accuracy'])"
      ]
    },
    {
      "cell_type": "code",
      "source": [
        "# Fit data to model\n",
        "history = model.fit(input_train, target_train,\n",
        "            batch_size=batch_size,\n",
        "            epochs=no_epochs,\n",
        "            verbose=verbosity,\n",
        "            validation_split=validation_split)"
      ],
      "metadata": {
        "colab": {
          "base_uri": "https://localhost:8080/"
        },
        "id": "TSD64tckT3-U",
        "outputId": "0dd8e05b-dcc4-47e5-d310-3cada2511feb"
      },
      "execution_count": 11,
      "outputs": [
        {
          "output_type": "stream",
          "name": "stdout",
          "text": [
            "Epoch 1/50\n",
            "800/800 [==============================] - 71s 89ms/step - loss: 1.9115 - accuracy: 0.3248 - val_loss: 1.5232 - val_accuracy: 0.4283\n",
            "Epoch 2/50\n",
            "800/800 [==============================] - 70s 88ms/step - loss: 1.5203 - accuracy: 0.4435 - val_loss: 1.4351 - val_accuracy: 0.4795\n",
            "Epoch 3/50\n",
            "800/800 [==============================] - 71s 89ms/step - loss: 1.3987 - accuracy: 0.4947 - val_loss: 1.4073 - val_accuracy: 0.4845\n",
            "Epoch 4/50\n",
            "800/800 [==============================] - 69s 87ms/step - loss: 1.3129 - accuracy: 0.5314 - val_loss: 2.0226 - val_accuracy: 0.3811\n",
            "Epoch 5/50\n",
            "800/800 [==============================] - 69s 87ms/step - loss: 1.2587 - accuracy: 0.5557 - val_loss: 1.4552 - val_accuracy: 0.4983\n",
            "Epoch 6/50\n",
            "800/800 [==============================] - 71s 88ms/step - loss: 1.2105 - accuracy: 0.5727 - val_loss: 1.4970 - val_accuracy: 0.4749\n",
            "Epoch 7/50\n",
            "800/800 [==============================] - 69s 86ms/step - loss: 1.1705 - accuracy: 0.5869 - val_loss: 1.0759 - val_accuracy: 0.6134\n",
            "Epoch 8/50\n",
            "800/800 [==============================] - 69s 86ms/step - loss: 1.1487 - accuracy: 0.5953 - val_loss: 1.1730 - val_accuracy: 0.5992\n",
            "Epoch 9/50\n",
            "800/800 [==============================] - 70s 88ms/step - loss: 1.1148 - accuracy: 0.6086 - val_loss: 1.1406 - val_accuracy: 0.6004\n",
            "Epoch 10/50\n",
            "800/800 [==============================] - 69s 87ms/step - loss: 1.0870 - accuracy: 0.6168 - val_loss: 1.3899 - val_accuracy: 0.5239\n",
            "Epoch 11/50\n",
            "800/800 [==============================] - 69s 86ms/step - loss: 1.0697 - accuracy: 0.6263 - val_loss: 0.9121 - val_accuracy: 0.6809\n",
            "Epoch 12/50\n",
            "800/800 [==============================] - 70s 88ms/step - loss: 1.0473 - accuracy: 0.6355 - val_loss: 1.2009 - val_accuracy: 0.5871\n",
            "Epoch 13/50\n",
            "800/800 [==============================] - 69s 87ms/step - loss: 1.0355 - accuracy: 0.6403 - val_loss: 1.7165 - val_accuracy: 0.4595\n",
            "Epoch 14/50\n",
            "800/800 [==============================] - 69s 87ms/step - loss: 1.0116 - accuracy: 0.6471 - val_loss: 0.9065 - val_accuracy: 0.6776\n",
            "Epoch 15/50\n",
            "800/800 [==============================] - 71s 89ms/step - loss: 1.0004 - accuracy: 0.6525 - val_loss: 0.8493 - val_accuracy: 0.6968\n",
            "Epoch 16/50\n",
            "800/800 [==============================] - 70s 88ms/step - loss: 0.9845 - accuracy: 0.6596 - val_loss: 0.9177 - val_accuracy: 0.6778\n",
            "Epoch 17/50\n",
            "800/800 [==============================] - 70s 87ms/step - loss: 0.9750 - accuracy: 0.6619 - val_loss: 1.1883 - val_accuracy: 0.5808\n",
            "Epoch 18/50\n",
            "800/800 [==============================] - 71s 88ms/step - loss: 0.9608 - accuracy: 0.6655 - val_loss: 0.8258 - val_accuracy: 0.7088\n",
            "Epoch 19/50\n",
            "800/800 [==============================] - 70s 87ms/step - loss: 0.9589 - accuracy: 0.6643 - val_loss: 0.8471 - val_accuracy: 0.6993\n",
            "Epoch 20/50\n",
            "800/800 [==============================] - 70s 87ms/step - loss: 0.9435 - accuracy: 0.6717 - val_loss: 0.7827 - val_accuracy: 0.7295\n",
            "Epoch 21/50\n",
            "800/800 [==============================] - 71s 89ms/step - loss: 0.9402 - accuracy: 0.6723 - val_loss: 1.2494 - val_accuracy: 0.5792\n",
            "Epoch 22/50\n",
            "800/800 [==============================] - 69s 87ms/step - loss: 0.9281 - accuracy: 0.6782 - val_loss: 0.8304 - val_accuracy: 0.7084\n",
            "Epoch 23/50\n",
            "800/800 [==============================] - 70s 87ms/step - loss: 0.9155 - accuracy: 0.6819 - val_loss: 0.8944 - val_accuracy: 0.6857\n",
            "Epoch 24/50\n",
            "800/800 [==============================] - 72s 90ms/step - loss: 0.9095 - accuracy: 0.6833 - val_loss: 0.8040 - val_accuracy: 0.7205\n",
            "Epoch 25/50\n",
            "800/800 [==============================] - 71s 89ms/step - loss: 0.8980 - accuracy: 0.6887 - val_loss: 0.8969 - val_accuracy: 0.6917\n",
            "Epoch 26/50\n",
            "800/800 [==============================] - 71s 88ms/step - loss: 0.8947 - accuracy: 0.6914 - val_loss: 0.9440 - val_accuracy: 0.6724\n",
            "Epoch 27/50\n",
            "800/800 [==============================] - 72s 90ms/step - loss: 0.8965 - accuracy: 0.6914 - val_loss: 1.0500 - val_accuracy: 0.6386\n",
            "Epoch 28/50\n",
            "800/800 [==============================] - 71s 88ms/step - loss: 0.8844 - accuracy: 0.6958 - val_loss: 0.8388 - val_accuracy: 0.7077\n",
            "Epoch 29/50\n",
            "800/800 [==============================] - 71s 88ms/step - loss: 0.8743 - accuracy: 0.6997 - val_loss: 0.8518 - val_accuracy: 0.7040\n",
            "Epoch 30/50\n",
            "800/800 [==============================] - 72s 90ms/step - loss: 0.8752 - accuracy: 0.6951 - val_loss: 0.8088 - val_accuracy: 0.7188\n",
            "Epoch 31/50\n",
            "800/800 [==============================] - 71s 88ms/step - loss: 0.8672 - accuracy: 0.6997 - val_loss: 0.8131 - val_accuracy: 0.7168\n",
            "Epoch 32/50\n",
            "800/800 [==============================] - 71s 88ms/step - loss: 0.8630 - accuracy: 0.7013 - val_loss: 0.7596 - val_accuracy: 0.7344\n",
            "Epoch 33/50\n",
            "800/800 [==============================] - 72s 90ms/step - loss: 0.8565 - accuracy: 0.7028 - val_loss: 0.8731 - val_accuracy: 0.6938\n",
            "Epoch 34/50\n",
            "800/800 [==============================] - 71s 89ms/step - loss: 0.8510 - accuracy: 0.7051 - val_loss: 0.6914 - val_accuracy: 0.7610\n",
            "Epoch 35/50\n",
            "800/800 [==============================] - 71s 89ms/step - loss: 0.8474 - accuracy: 0.7062 - val_loss: 1.0448 - val_accuracy: 0.6494\n",
            "Epoch 36/50\n",
            "800/800 [==============================] - 72s 90ms/step - loss: 0.8476 - accuracy: 0.7063 - val_loss: 0.9468 - val_accuracy: 0.6750\n",
            "Epoch 37/50\n",
            "800/800 [==============================] - 71s 88ms/step - loss: 0.8394 - accuracy: 0.7095 - val_loss: 0.8226 - val_accuracy: 0.7108\n",
            "Epoch 38/50\n",
            "800/800 [==============================] - 71s 88ms/step - loss: 0.8364 - accuracy: 0.7114 - val_loss: 0.7448 - val_accuracy: 0.7404\n",
            "Epoch 39/50\n",
            "800/800 [==============================] - 72s 90ms/step - loss: 0.8321 - accuracy: 0.7126 - val_loss: 0.6864 - val_accuracy: 0.7650\n",
            "Epoch 40/50\n",
            "800/800 [==============================] - 71s 88ms/step - loss: 0.8357 - accuracy: 0.7120 - val_loss: 0.7521 - val_accuracy: 0.7399\n",
            "Epoch 41/50\n",
            "800/800 [==============================] - 71s 89ms/step - loss: 0.8299 - accuracy: 0.7136 - val_loss: 0.9861 - val_accuracy: 0.6574\n",
            "Epoch 42/50\n",
            "800/800 [==============================] - 72s 90ms/step - loss: 0.8209 - accuracy: 0.7141 - val_loss: 0.7790 - val_accuracy: 0.7355\n",
            "Epoch 43/50\n",
            "800/800 [==============================] - 71s 88ms/step - loss: 0.8231 - accuracy: 0.7152 - val_loss: 0.8227 - val_accuracy: 0.7117\n",
            "Epoch 44/50\n",
            "800/800 [==============================] - 71s 89ms/step - loss: 0.8165 - accuracy: 0.7185 - val_loss: 0.7946 - val_accuracy: 0.7244\n",
            "Epoch 45/50\n",
            "800/800 [==============================] - 72s 90ms/step - loss: 0.8118 - accuracy: 0.7190 - val_loss: 0.8292 - val_accuracy: 0.7173\n",
            "Epoch 46/50\n",
            "800/800 [==============================] - 71s 89ms/step - loss: 0.8136 - accuracy: 0.7209 - val_loss: 0.6733 - val_accuracy: 0.7686\n",
            "Epoch 47/50\n",
            "800/800 [==============================] - 71s 89ms/step - loss: 0.8064 - accuracy: 0.7195 - val_loss: 0.7503 - val_accuracy: 0.7377\n",
            "Epoch 48/50\n",
            "800/800 [==============================] - 72s 90ms/step - loss: 0.8049 - accuracy: 0.7227 - val_loss: 0.6806 - val_accuracy: 0.7655\n",
            "Epoch 49/50\n",
            "800/800 [==============================] - 71s 88ms/step - loss: 0.7932 - accuracy: 0.7252 - val_loss: 0.6905 - val_accuracy: 0.7631\n",
            "Epoch 50/50\n",
            "800/800 [==============================] - 71s 89ms/step - loss: 0.7954 - accuracy: 0.7249 - val_loss: 0.6708 - val_accuracy: 0.7665\n"
          ]
        }
      ]
    },
    {
      "cell_type": "code",
      "source": [
        "# Generate generalization metrics\n",
        "score = model.evaluate(input_test, target_test, verbose=0)\n",
        "print(f'Test loss: {score[0]} / Test accuracy: {score[1]}')\n",
        "\n",
        "# Visualize history\n",
        "# Plot history: Loss\n",
        "plt.plot(history.history['val_loss'])\n",
        "plt.title('Validation loss history')\n",
        "plt.ylabel('Loss value')\n",
        "plt.xlabel('No. epoch')\n",
        "plt.show()\n",
        "\n",
        "# Plot history: Accuracy\n",
        "plt.plot(history.history['val_accuracy'])\n",
        "plt.title('Validation accuracy history')\n",
        "plt.ylabel('Accuracy value (%)')\n",
        "plt.xlabel('No. epoch')\n",
        "plt.show()"
      ],
      "metadata": {
        "colab": {
          "base_uri": "https://localhost:8080/",
          "height": 590
        },
        "id": "Esf04bLMcDjP",
        "outputId": "2aa8ee44-021d-43ca-c9e6-ce1e541fcc3e"
      },
      "execution_count": 12,
      "outputs": [
        {
          "output_type": "stream",
          "name": "stdout",
          "text": [
            "Test loss: 0.6905673146247864 / Test accuracy: 0.7597000002861023\n"
          ]
        },
        {
          "output_type": "display_data",
          "data": {
            "text/plain": [
              "<Figure size 432x288 with 1 Axes>"
            ],
            "image/png": "[encoded data removed]"
          },
          "metadata": {
            "needs_background": "light"
          }
        },
        {
          "output_type": "display_data",
          "data": {
            "text/plain": [
              "<Figure size 432x288 with 1 Axes>"
            ],
            "image/png": "[encoded data removed]"
          },
          "metadata": {
            "needs_background": "light"
          }
        }
      ]
    }
  ],
  "metadata": {
    "colab": {
      "provenance": []
    },
    "kernelspec": {
      "display_name": "Python 3",
      "name": "python3"
    },
    "language_info": {
      "name": "python"
    }
  },
  "nbformat": 4,
  "nbformat_minor": 0
}